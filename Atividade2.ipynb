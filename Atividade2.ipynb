{
  "nbformat": 4,
  "nbformat_minor": 0,
  "metadata": {
    "colab": {
      "name": "Atividade2.ipynb",
      "provenance": [],
      "authorship_tag": "ABX9TyPy/Qu3lyVbzRmF/YhNGERV",
      "include_colab_link": true
    },
    "kernelspec": {
      "name": "python3",
      "display_name": "Python 3"
    },
    "language_info": {
      "name": "python"
    }
  },
  "cells": [
    {
      "cell_type": "markdown",
      "metadata": {
        "id": "view-in-github",
        "colab_type": "text"
      },
      "source": [
        "<a href=\"https://colab.research.google.com/github/Tamiriscoliveira/AprendendoPython/blob/master/Atividade2.ipynb\" target=\"_parent\"><img src=\"https://colab.research.google.com/assets/colab-badge.svg\" alt=\"Open In Colab\"/></a>"
      ]
    },
    {
      "cell_type": "code",
      "source": [
        "# Nome: Tamiris Coutinho de Oliveira\n",
        "# RGM: 024235105 "
      ],
      "metadata": {
        "id": "lD1GXkdGyvGk"
      },
      "execution_count": null,
      "outputs": []
    },
    {
      "cell_type": "markdown",
      "source": [
        "Sabe-se que as notas dos alunos de uma Escola estão no intervalo de 0 a 10 e a Escola tem como objetivo realizar uma análise estatística sobre essas notas.\n",
        "<br>\n",
        "Faça um Programa utilizando a linguagem Python que solicite ao usuário de cada aluno uma única nota (são 20 alunos) e as armazene em uma lista.\n",
        "<br>\n",
        "Calcule e mostre:<br>\n",
        "a) A média aritmética das notas;<br>\n",
        "b) A variância das notas;<br>\n",
        "c) O desvio padrão.<br>"
      ],
      "metadata": {
        "id": "UOBDumCQql4Q"
      }
    },
    {
      "cell_type": "code",
      "source": [
        "import numpy as np\n",
        "\n",
        "total_alunos = 20\n",
        "quantidade_notas = 0\n",
        "notas = []\n",
        "\n",
        "for alunos in range(0,20):\n",
        "  nota = int(input('Favor informar qual é a sua nota: '))\n",
        "  if nota >= 0 and nota <= 10:\n",
        "    notas.append(nota)\n",
        "  else:\n",
        "    print('Nota inválida')\n",
        "print()\n",
        "print('As notas são:', notas)\n",
        "print()\n",
        "print('Média: ', np.average(notas))\n",
        "print()\n",
        "print('Variância: ', np.var(notas))\n",
        "print()\n",
        "print('Desvio Padrão: ', np.std(notas))\n",
        "\n"
      ],
      "metadata": {
        "colab": {
          "base_uri": "https://localhost:8080/"
        },
        "id": "Nb-S_ruQqupR",
        "outputId": "3b339993-013a-4127-96f8-c13a0e6d6281"
      },
      "execution_count": null,
      "outputs": [
        {
          "output_type": "stream",
          "name": "stdout",
          "text": [
            "Favor informar qual é a sua nota: 2\n",
            "Favor informar qual é a sua nota: 8\n",
            "Favor informar qual é a sua nota: 4\n",
            "Favor informar qual é a sua nota: 7\n",
            "Favor informar qual é a sua nota: 10\n",
            "Favor informar qual é a sua nota: 10\n",
            "Favor informar qual é a sua nota: 9\n",
            "Favor informar qual é a sua nota: 2\n",
            "Favor informar qual é a sua nota: 4\n",
            "Favor informar qual é a sua nota: 6\n",
            "Favor informar qual é a sua nota: 5\n",
            "Favor informar qual é a sua nota: 10\n",
            "Favor informar qual é a sua nota: 10\n",
            "Favor informar qual é a sua nota: 9\n",
            "Favor informar qual é a sua nota: 5\n",
            "Favor informar qual é a sua nota: 3\n",
            "Favor informar qual é a sua nota: 1\n",
            "Favor informar qual é a sua nota: 7\n",
            "Favor informar qual é a sua nota: 9\n",
            "Favor informar qual é a sua nota: 6\n",
            "\n",
            "As notas são: [2, 8, 4, 7, 10, 10, 9, 2, 4, 6, 5, 10, 10, 9, 5, 3, 1, 7, 9, 6]\n",
            "\n",
            "Média:  6.35\n",
            "\n",
            "Variância:  8.527500000000002\n",
            "\n",
            "Desvio Padrão:  2.920188350089768\n"
          ]
        }
      ]
    },
    {
      "cell_type": "code",
      "source": [
        ""
      ],
      "metadata": {
        "id": "0kI5l3-ErsVz"
      },
      "execution_count": null,
      "outputs": []
    }
  ]
}